{
 "cells": [
  {
   "cell_type": "markdown",
   "metadata": {
    "ein.tags": "worksheet-0",
    "slideshow": {
     "slide_type": "-"
    }
   },
   "source": [
    "# Basic\n",
    "\n",
    "This notebook implements basic network for MNIST.\n",
    "The training code's backbone is largely from https://github.com/zergtant/pytorch-handbook/blob/master/chapter3/3.2-mnist.ipynb, except that we switch the backend to fully connected networks, and implement several ideas related to our topic.\n",
    "This notebook tries to train two networks and does some simple researches on how they differ, including:\n",
    "\n",
    "1. Are their hidden features distinguishable?\n",
    "2. Are their hidden features actually represent the same thing? Or can their features be converted to one another?"
   ]
  },
  {
   "cell_type": "code",
   "execution_count": 1,
   "metadata": {
    "autoscroll": false,
    "collapsed": false,
    "ein.hycell": false,
    "ein.tags": "worksheet-0",
    "slideshow": {
     "slide_type": "-"
    }
   },
   "outputs": [],
   "source": [
    "import torch\n",
    "import torch.nn as nn\n",
    "import torchvision\n",
    "from torchvision import datasets, transforms\n",
    "\n",
    "import matplotlib.pyplot as plt\n",
    "import numpy as np\n",
    "%matplotlib inline"
   ]
  },
  {
   "cell_type": "markdown",
   "metadata": {
    "ein.tags": "worksheet-0",
    "slideshow": {
     "slide_type": "-"
    }
   },
   "source": [
    "\n",
    "## Dataloader\n"
   ]
  },
  {
   "cell_type": "code",
   "execution_count": 2,
   "metadata": {
    "autoscroll": false,
    "collapsed": false,
    "ein.hycell": false,
    "ein.tags": "worksheet-0",
    "slideshow": {
     "slide_type": "-"
    }
   },
   "outputs": [],
   "source": [
    "# load MNIST\n",
    "num_workers = 100\n",
    "\n",
    "transform = transforms.Compose([transforms.ToTensor(),\n",
    "                                transforms.Normalize((0.1307,), (0.3081,))])\n",
    "\n",
    "data_train = datasets.MNIST('./data', train = True, download = True,\n",
    "                            transform = transform)\n",
    "\n",
    "data_test = datasets.MNIST('./data', train = False,\n",
    "                           transform = transform)\n",
    "\n",
    "train_loader = torch.utils.data.DataLoader(data_train, num_workers = num_workers,\n",
    "                                           batch_size = 64, shuffle = True)\n",
    "\n",
    "test_loader = torch.utils.data.DataLoader(data_test, num_workers = num_workers,\n",
    "                                          batch_size = 64, shuffle = True)"
   ]
  },
  {
   "cell_type": "code",
   "execution_count": 3,
   "metadata": {
    "autoscroll": false,
    "collapsed": false,
    "ein.hycell": false,
    "ein.tags": "worksheet-0",
    "slideshow": {
     "slide_type": "-"
    }
   },
   "outputs": [
    {
     "name": "stdout",
     "output_type": "stream",
     "text": [
      "device: cuda\n"
     ]
    }
   ],
   "source": [
    "device = torch.device('cuda' if torch.cuda.is_available() else 'cpu')\n",
    "\n",
    "print('device:', device)"
   ]
  },
  {
   "cell_type": "code",
   "execution_count": 4,
   "metadata": {
    "autoscroll": false,
    "collapsed": false,
    "ein.hycell": false,
    "ein.tags": "worksheet-0",
    "slideshow": {
     "slide_type": "-"
    }
   },
   "outputs": [
    {
     "name": "stderr",
     "output_type": "stream",
     "text": [
      "Clipping input data to the valid range for imshow with RGB data ([0..1] for floats or [0..255] for integers).\n"
     ]
    },
    {
     "name": "stdout",
     "output_type": "stream",
     "text": [
      "tensor([[5, 0, 4, 1, 9, 2, 1, 3],\n",
      "        [1, 4, 3, 5, 3, 6, 1, 7],\n",
      "        [2, 8, 6, 9, 4, 0, 9, 1],\n",
      "        [1, 2, 4, 3, 2, 7, 3, 8],\n",
      "        [6, 9, 0, 5, 6, 0, 7, 6],\n",
      "        [1, 8, 7, 9, 3, 9, 8, 5],\n",
      "        [9, 3, 3, 0, 7, 4, 9, 8],\n",
      "        [0, 9, 4, 1, 4, 4, 6, 0]])\n"
     ]
    },
    {
     "data": {
      "text/plain": [
       "<matplotlib.image.AxesImage at 0x7fe6c01aa290>"
      ]
     },
     "execution_count": 4,
     "metadata": {},
     "output_type": "execute_result"
    },
    {
     "data": {
      "image/png": "[encoded data removed]",
      "text/plain": [
       "<Figure size 432x288 with 1 Axes>"
      ]
     },
     "metadata": {},
     "output_type": "display_data"
    }
   ],
   "source": [
    "# visualize one\n",
    "\n",
    "imgs = data_train.data[:64].view(-1, 1, 28, 28)\n",
    "img = torchvision.utils.make_grid(imgs)\n",
    "\n",
    "img = img.numpy().transpose(1, 2, 0)\n",
    "img = img * 0.1307 + 0.3081\n",
    "\n",
    "print(data_train.targets[:64].view(8, 8))\n",
    "plt.imshow(img)"
   ]
  },
  {
   "cell_type": "markdown",
   "metadata": {
    "ein.tags": "worksheet-0",
    "slideshow": {
     "slide_type": "-"
    }
   },
   "source": [
    "## Models\n",
    "CNNModel can be used for fun, but our feature extraction model is based on FCModel.\n",
    "\n",
    "FCModel:\n",
    "28*28  ->  32      -> 10\n",
    "Image  -> H(idden) -> Classes"
   ]
  },
  {
   "cell_type": "code",
   "execution_count": 5,
   "metadata": {
    "autoscroll": false,
    "collapsed": false,
    "ein.hycell": false,
    "ein.tags": "worksheet-0",
    "slideshow": {
     "slide_type": "-"
    }
   },
   "outputs": [],
   "source": [
    "class CNNModel(torch.nn.Module):\n",
    "    def __init__(self):\n",
    "        super(CNNModel, self).__init__()\n",
    "        self.conv1 = nn.Sequential(nn.Conv2d(1, 16, 3, padding = 1),\n",
    "                                   nn.ReLU(),\n",
    "                                   nn.Conv2d(16, 32, 3, padding = 1),\n",
    "                                   nn.ReLU(),\n",
    "                                   nn.MaxPool2d(2))\n",
    "        self.dense = nn.Sequential(nn.Linear(14 * 14 * 32, 256),\n",
    "                                   nn.ReLU(),\n",
    "                                   nn.Dropout(p = 0.5),\n",
    "                                   nn.Linear(256, 10))\n",
    "\n",
    "    def forward(self, x):\n",
    "        x = self.conv1(x)\n",
    "        x = x.view(-1, 14 * 14 * 32)\n",
    "        x = self.dense(x)\n",
    "        return x"
   ]
  },
  {
   "cell_type": "code",
   "execution_count": 6,
   "metadata": {
    "autoscroll": false,
    "collapsed": false,
    "ein.hycell": false,
    "ein.tags": "worksheet-0",
    "slideshow": {
     "slide_type": "-"
    }
   },
   "outputs": [],
   "source": [
    "class FCModel(torch.nn.Module):\n",
    "    def __init__(self):\n",
    "        super(FCModel, self).__init__()\n",
    "        self.dense1 = nn.Sequential(nn.Linear(28 * 28, 32),\n",
    "                                    nn.ReLU())\n",
    "        self.dense2 = nn.Linear(32, 10)\n",
    "\n",
    "    def forward(self, x):\n",
    "        x = x.view(-1, 28 * 28)\n",
    "        x = self.dense1(x)\n",
    "        x = self.dense2(x)\n",
    "        return x"
   ]
  },
  {
   "cell_type": "code",
   "execution_count": 12,
   "metadata": {
    "autoscroll": false,
    "collapsed": false,
    "ein.hycell": false,
    "ein.tags": "worksheet-0",
    "slideshow": {
     "slide_type": "-"
    }
   },
   "outputs": [
    {
     "data": {
      "text/plain": [
       "FCModel(\n  (dense1): Sequential(\n    (0): Linear(in_features=784, out_features=32, bias=True)\n    (1): ReLU()\n  )\n  (dense2): Linear(in_features=32, out_features=10, bias=True)\n)"
      ]
     },
     "execution_count": 12,
     "metadata": {},
     "output_type": "execute_result"
    }
   ],
   "source": [
    "# this implements the train process\n",
    "\n",
    "model = FCModel().to(device)\n",
    "criterion = nn.CrossEntropyLoss()\n",
    "optimizer = torch.optim.Adam(model.parameters())\n",
    "\n",
    "model"
   ]
  },
  {
   "cell_type": "code",
   "execution_count": 13,
   "metadata": {
    "autoscroll": false,
    "collapsed": false,
    "ein.hycell": false,
    "ein.tags": "worksheet-0",
    "slideshow": {
     "slide_type": "-"
    }
   },
   "outputs": [
    {
     "name": "stdout",
     "output_type": "stream",
     "text": [
      "Initial Test Acc 9.9500%\n",
      "Epoch 0/10\n"
     ]
    },
    {
     "name": "stdout",
     "output_type": "stream",
     "text": [
      "Loss: 0.0056, Train Acc 89.7283%, Test Acc 93.1400%\n",
      "Epoch 1/10\n"
     ]
    },
    {
     "name": "stdout",
     "output_type": "stream",
     "text": [
      "Loss: 0.0032, Train Acc 94.0533%, Test Acc 94.9600%\n",
      "Epoch 2/10\n"
     ]
    },
    {
     "name": "stdout",
     "output_type": "stream",
     "text": [
      "Loss: 0.0026, Train Acc 95.2017%, Test Acc 95.1300%\n",
      "Epoch 3/10\n"
     ]
    },
    {
     "name": "stdout",
     "output_type": "stream",
     "text": [
      "Loss: 0.0022, Train Acc 95.9917%, Test Acc 95.4200%\n",
      "Epoch 4/10\n"
     ]
    },
    {
     "name": "stdout",
     "output_type": "stream",
     "text": [
      "Loss: 0.0019, Train Acc 96.3383%, Test Acc 95.8300%\n",
      "Epoch 5/10\n"
     ]
    },
    {
     "name": "stdout",
     "output_type": "stream",
     "text": [
      "Loss: 0.0017, Train Acc 96.7283%, Test Acc 95.8500%\n",
      "Epoch 6/10\n"
     ]
    },
    {
     "name": "stdout",
     "output_type": "stream",
     "text": [
      "Loss: 0.0016, Train Acc 96.9283%, Test Acc 96.0900%\n",
      "Epoch 7/10\n"
     ]
    },
    {
     "name": "stdout",
     "output_type": "stream",
     "text": [
      "Loss: 0.0015, Train Acc 97.1317%, Test Acc 96.0300%\n",
      "Epoch 8/10\n"
     ]
    },
    {
     "name": "stdout",
     "output_type": "stream",
     "text": [
      "Loss: 0.0014, Train Acc 97.2817%, Test Acc 96.1700%\n",
      "Epoch 9/10\n"
     ]
    },
    {
     "name": "stdout",
     "output_type": "stream",
     "text": [
      "Loss: 0.0013, Train Acc 97.4783%, Test Acc 96.2200%\n"
     ]
    }
   ],
   "source": [
    "n_epochs = 10\n",
    "\n",
    "model.eval()\n",
    "testing_correct = 0\n",
    "for X_test, y_test in test_loader:\n",
    "    X_test = X_test.to(device)\n",
    "    y_test = y_test.to(device)\n",
    "\n",
    "    outputs = model(X_test)\n",
    "    y_pred = torch.max(outputs, 1).indices\n",
    "    testing_correct += torch.sum(y_pred == y_test).item()\n",
    "\n",
    "print('Initial Test Acc {:.4f}%'.format(testing_correct / len(data_test) * 100))\n",
    "\n",
    "for epoch in range(n_epochs):\n",
    "    print('Epoch {}/{}'.format(epoch, n_epochs))\n",
    "\n",
    "    model.train()\n",
    "    running_loss = 0.0\n",
    "    running_correct = 0\n",
    "    for X_train, y_train in train_loader:\n",
    "        X_train = X_train.to(device)\n",
    "        y_train = y_train.to(device)\n",
    "        \n",
    "        optimizer.zero_grad()\n",
    "        outputs = model(X_train)\n",
    "        y_pred = torch.max(outputs, 1).indices\n",
    "        loss = criterion(outputs, y_train)\n",
    "        loss.backward()\n",
    "        optimizer.step()\n",
    "\n",
    "        running_loss += loss.item()\n",
    "        running_correct += torch.sum(y_pred == y_train).item()\n",
    "\n",
    "    model.eval()\n",
    "    testing_correct = 0\n",
    "    for X_test, y_test in test_loader:\n",
    "        X_test = X_test.to(device)\n",
    "        y_test = y_test.to(device)\n",
    "        \n",
    "        outputs = model(X_test)\n",
    "        y_pred = torch.max(outputs, 1).indices\n",
    "        testing_correct += torch.sum(y_pred == y_test).item()\n",
    "\n",
    "    print('Loss: {:.4f}, Train Acc {:.4f}%, Test Acc {:.4f}%'.format(\n",
    "        running_loss / len(data_train),\n",
    "        running_correct / len(data_train) * 100,\n",
    "        testing_correct / len(data_test) * 100\n",
    "    ))"
   ]
  },
  {
   "cell_type": "markdown",
   "metadata": {
    "ein.tags": "worksheet-0",
    "slideshow": {
     "slide_type": "-"
    }
   },
   "source": [
    "Model 1 Training process:\n",
    "\n",
    "```\n",
    "Initial Test Acc 5.8100%\n",
    "Epoch 0/10\n",
    "Loss: 0.0053, Train Acc 90.3600%, Test Acc 94.4300%\n",
    "Epoch 1/10\n",
    "Loss: 0.0027, Train Acc 94.9483%, Test Acc 95.4500%\n",
    "Epoch 2/10\n",
    "Loss: 0.0021, Train Acc 95.9867%, Test Acc 95.9300%\n",
    "Epoch 3/10\n",
    "Loss: 0.0018, Train Acc 96.6217%, Test Acc 96.2000%\n",
    "Epoch 4/10\n",
    "Loss: 0.0016, Train Acc 96.9967%, Test Acc 96.6500%\n",
    "Epoch 5/10\n",
    "Loss: 0.0014, Train Acc 97.2300%, Test Acc 96.2900%\n",
    "Epoch 6/10\n",
    "Loss: 0.0013, Train Acc 97.4533%, Test Acc 96.6700%\n",
    "Epoch 7/10\n",
    "Loss: 0.0012, Train Acc 97.7667%, Test Acc 96.9100%\n",
    "Epoch 8/10\n",
    "Loss: 0.0011, Train Acc 97.8100%, Test Acc 96.5300%\n",
    "Epoch 9/10\n",
    "Loss: 0.0010, Train Acc 98.0917%, Test Acc 96.9600%\n",
    "```\n",
    "\n",
    "Model 2 Training process:\n",
    "```\n",
    "Initial Test Acc 9.9500%\n",
    "Epoch 0/10\n",
    "Loss: 0.0056, Train Acc 89.7283%, Test Acc 93.1400%\n",
    "Epoch 1/10\n",
    "Loss: 0.0032, Train Acc 94.0533%, Test Acc 94.9600%\n",
    "Epoch 2/10\n",
    "Loss: 0.0026, Train Acc 95.2017%, Test Acc 95.1300%\n",
    "Epoch 3/10\n",
    "Loss: 0.0022, Train Acc 95.9917%, Test Acc 95.4200%\n",
    "Epoch 4/10\n",
    "Loss: 0.0019, Train Acc 96.3383%, Test Acc 95.8300%\n",
    "Epoch 5/10\n",
    "Loss: 0.0017, Train Acc 96.7283%, Test Acc 95.8500%\n",
    "Epoch 6/10\n",
    "Loss: 0.0016, Train Acc 96.9283%, Test Acc 96.0900%\n",
    "Epoch 7/10\n",
    "Loss: 0.0015, Train Acc 97.1317%, Test Acc 96.0300%\n",
    "Epoch 8/10\n",
    "Loss: 0.0014, Train Acc 97.2817%, Test Acc 96.1700%\n",
    "Epoch 9/10\n",
    "Loss: 0.0013, Train Acc 97.4783%, Test Acc 96.2200%\n",
    "```"
   ]
  },
  {
   "cell_type": "code",
   "execution_count": 14,
   "metadata": {
    "autoscroll": false,
    "collapsed": false,
    "ein.hycell": false,
    "ein.tags": "worksheet-0",
    "slideshow": {
     "slide_type": "-"
    }
   },
   "outputs": [],
   "source": [
    "# Please train two models using two different random initial weights, then save them like:\n",
    "# ./models/FC1.pt\n",
    "# ./models/FC2.pt\n",
    "\n",
    "torch.save(model.state_dict(), 'models/FC2.pt')"
   ]
  },
  {
   "cell_type": "markdown",
   "metadata": {
    "ein.tags": "worksheet-0",
    "slideshow": {
     "slide_type": "-"
    }
   },
   "source": [
    "## Classifier\n",
    "\n",
    "This section trains a classifier that, given a hidden feature representation (32-dimensional vector), then recognize which model it comes from."
   ]
  },
  {
   "cell_type": "code",
   "execution_count": 15,
   "metadata": {
    "autoscroll": false,
    "collapsed": false,
    "ein.hycell": false,
    "ein.tags": "worksheet-0",
    "slideshow": {
     "slide_type": "-"
    }
   },
   "outputs": [],
   "source": [
    "# separation model\n",
    "\n",
    "class ClassifyModel(nn.Module):\n",
    "    def __init__(self):\n",
    "        super(ClassifyModel, self).__init__()\n",
    "        self.dense1 = nn.Sequential(nn.Linear(32, 16),\n",
    "                                    nn.ReLU())\n",
    "        self.dense2 = nn.Linear(16, 1)\n",
    "\n",
    "    def forward(self, x):\n",
    "        x = x.view(-1, 32)\n",
    "        x = self.dense1(x)\n",
    "        x = self.dense2(x)\n",
    "        return x"
   ]
  },
  {
   "cell_type": "code",
   "execution_count": 16,
   "metadata": {
    "autoscroll": false,
    "collapsed": false,
    "ein.hycell": false,
    "ein.tags": "worksheet-0",
    "slideshow": {
     "slide_type": "-"
    }
   },
   "outputs": [
    {
     "data": {
      "text/plain": [
       "FCModel(\n  (dense1): Sequential(\n    (0): Linear(in_features=784, out_features=32, bias=True)\n    (1): ReLU()\n  )\n  (dense2): Linear(in_features=32, out_features=10, bias=True)\n)"
      ]
     },
     "execution_count": 16,
     "metadata": {},
     "output_type": "execute_result"
    }
   ],
   "source": [
    "model1 = FCModel().to(device)\n",
    "model2 = FCModel().to(device)\n",
    "\n",
    "model1.load_state_dict(torch.load('models/FC1.pt'))\n",
    "model2.load_state_dict(torch.load('models/FC2.pt'))\n",
    "\n",
    "model1.eval()\n",
    "model2.eval()"
   ]
  },
  {
   "cell_type": "code",
   "execution_count": 17,
   "metadata": {
    "autoscroll": false,
    "collapsed": false,
    "ein.hycell": false,
    "ein.tags": "worksheet-0",
    "slideshow": {
     "slide_type": "-"
    }
   },
   "outputs": [
    {
     "data": {
      "text/plain": [
       "ClassifyModel(\n  (dense1): Sequential(\n    (0): Linear(in_features=32, out_features=16, bias=True)\n    (1): ReLU()\n  )\n  (dense2): Linear(in_features=16, out_features=1, bias=True)\n)"
      ]
     },
     "execution_count": 17,
     "metadata": {},
     "output_type": "execute_result"
    }
   ],
   "source": [
    "model_c = ClassifyModel().to(device)\n",
    "criterion_c = nn.BCEWithLogitsLoss()\n",
    "optimizer_c = torch.optim.Adam(model_c.parameters())\n",
    "\n",
    "model_c"
   ]
  },
  {
   "cell_type": "code",
   "execution_count": 18,
   "metadata": {
    "autoscroll": false,
    "collapsed": false,
    "ein.hycell": false,
    "ein.tags": "worksheet-0",
    "slideshow": {
     "slide_type": "-"
    }
   },
   "outputs": [],
   "source": [
    "# utilities for data preprocessing\n",
    "\n",
    "def hiddenlayer_classify_data(loader):\n",
    "    for X, _ in loader:\n",
    "        X = X.to(device).view(-1, 28 * 28)\n",
    "        F1 = model1.dense1(X).detach()\n",
    "        F2 = model2.dense1(X).detach()\n",
    "        H = torch.cat((F1, F2), 0)\n",
    "        c1 = torch.zeros(len(X), 1, device = device)\n",
    "        c2 = torch.ones(len(X), 1, device = device)\n",
    "        c = torch.cat((c1, c2), 0)\n",
    "        yield H, c\n",
    "\n",
    "def hiddenlayer_conversion_data(loader):\n",
    "    for X, _ in loader:\n",
    "        X = X.to(device).view(-1, 28 * 28)\n",
    "        F1 = model1.dense1(X).detach()\n",
    "        F2 = model2.dense1(X).detach()\n",
    "        yield F1, F2"
   ]
  },
  {
   "cell_type": "code",
   "execution_count": 19,
   "metadata": {
    "autoscroll": false,
    "collapsed": false,
    "ein.hycell": false,
    "ein.tags": "worksheet-0",
    "slideshow": {
     "slide_type": "-"
    }
   },
   "outputs": [
    {
     "name": "stdout",
     "output_type": "stream",
     "text": [
      "Initial Test Acc 30.9600%\n",
      "Epoch 0/10\n"
     ]
    },
    {
     "name": "stdout",
     "output_type": "stream",
     "text": [
      "Loss: 0.0008, Train Acc 98.0467%, Test Acc 99.9300%\n",
      "Epoch 1/10\n"
     ]
    },
    {
     "name": "stdout",
     "output_type": "stream",
     "text": [
      "Loss: 0.0000, Train Acc 99.9483%, Test Acc 99.9850%\n",
      "Epoch 2/10\n"
     ]
    },
    {
     "name": "stdout",
     "output_type": "stream",
     "text": [
      "Loss: 0.0000, Train Acc 99.9658%, Test Acc 99.9900%\n",
      "Epoch 3/10\n"
     ]
    },
    {
     "name": "stdout",
     "output_type": "stream",
     "text": [
      "Loss: 0.0000, Train Acc 99.9750%, Test Acc 99.9950%\n",
      "Epoch 4/10\n"
     ]
    },
    {
     "name": "stdout",
     "output_type": "stream",
     "text": [
      "Loss: 0.0000, Train Acc 99.9825%, Test Acc 99.9850%\n",
      "Epoch 5/10\n"
     ]
    },
    {
     "name": "stdout",
     "output_type": "stream",
     "text": [
      "Loss: 0.0000, Train Acc 99.9842%, Test Acc 99.9950%\n",
      "Epoch 6/10\n"
     ]
    },
    {
     "name": "stdout",
     "output_type": "stream",
     "text": [
      "Loss: 0.0000, Train Acc 99.9908%, Test Acc 99.9950%\n",
      "Epoch 7/10\n"
     ]
    },
    {
     "name": "stdout",
     "output_type": "stream",
     "text": [
      "Loss: 0.0000, Train Acc 99.9908%, Test Acc 99.9950%\n",
      "Epoch 8/10\n"
     ]
    },
    {
     "name": "stdout",
     "output_type": "stream",
     "text": [
      "Loss: 0.0000, Train Acc 99.9933%, Test Acc 99.9900%\n",
      "Epoch 9/10\n"
     ]
    },
    {
     "name": "stdout",
     "output_type": "stream",
     "text": [
      "Loss: 0.0000, Train Acc 99.9967%, Test Acc 99.9900%\n"
     ]
    }
   ],
   "source": [
    "model_c.eval()\n",
    "testing_correct = 0\n",
    "for H_test, c_test in hiddenlayer_classify_data(test_loader):\n",
    "    outputs = model_c(H_test)\n",
    "    c_pred = (outputs > 0)\n",
    "    testing_correct += torch.sum(c_pred == c_test).item()\n",
    "\n",
    "print('Initial Test Acc {:.4f}%'.format(testing_correct / (2 * len(data_test)) * 100))\n",
    "\n",
    "n_epochs = 10\n",
    "\n",
    "for epoch in range(n_epochs):\n",
    "    print('Epoch {}/{}'.format(epoch, n_epochs))\n",
    "\n",
    "    model_c.train()\n",
    "    running_loss = 0.0\n",
    "    running_correct = 0\n",
    "    for H_train, c_train in hiddenlayer_classify_data(train_loader):\n",
    "        optimizer_c.zero_grad()\n",
    "        outputs = model_c(H_train)\n",
    "        c_pred = (outputs > 0)\n",
    "        loss = criterion_c(outputs, c_train)\n",
    "        loss.backward()\n",
    "        optimizer_c.step()\n",
    "\n",
    "        running_loss += loss.item()\n",
    "        running_correct += torch.sum(c_pred == c_train).item()\n",
    "\n",
    "    model_c.eval()\n",
    "    testing_correct = 0\n",
    "    for H_test, c_test in hiddenlayer_classify_data(test_loader):\n",
    "        outputs = model_c(H_test)\n",
    "        c_pred = (outputs > 0)\n",
    "        testing_correct += torch.sum(c_pred == c_test).item()\n",
    "\n",
    "    print('Loss: {:.4f}, Train Acc {:.4f}%, Test Acc {:.4f}%'.format(\n",
    "        running_loss / len(data_train),\n",
    "        running_correct / (2 * len(data_train)) * 100,\n",
    "        testing_correct / (2 * len(data_test)) * 100\n",
    "    ))"
   ]
  },
  {
   "cell_type": "code",
   "execution_count": 20,
   "metadata": {
    "autoscroll": false,
    "collapsed": false,
    "ein.hycell": false,
    "ein.tags": "worksheet-0",
    "slideshow": {
     "slide_type": "-"
    }
   },
   "outputs": [],
   "source": [
    "torch.save(model_c.state_dict(), 'models/Classifier12.pt')"
   ]
  },
  {
   "cell_type": "markdown",
   "metadata": {
    "ein.tags": "worksheet-0",
    "slideshow": {
     "slide_type": "-"
    }
   },
   "source": [
    "## Converter\n",
    "\n",
    "This section tries to map a hidden feature from the first model to the second one.\n",
    "There are 3 different objectives we can consider:\n",
    "\n",
    "1. Make the mapped feature distribution indistinguishable from the distribution of real features from the second model: an adversary loss\n",
    "2. One-on-one Regression loss.\n",
    "3. Embed the converter and ensemble a mixed model, then train this model with all weights fixed except the converter weights: end-to-end loss\n",
    "\n",
    "*We didn't try method 1. Below we tried method 2 and method 3.*"
   ]
  },
  {
   "cell_type": "code",
   "execution_count": 22,
   "metadata": {
    "autoscroll": false,
    "collapsed": false,
    "ein.hycell": false,
    "ein.tags": "worksheet-0",
    "slideshow": {
     "slide_type": "-"
    }
   },
   "outputs": [],
   "source": [
    "class ConversionModel(nn.Module):\n",
    "    def __init__(self):\n",
    "        super(ConversionModel, self).__init__()\n",
    "        self.dense1 = nn.Sequential(nn.Linear(32, 32),\n",
    "                                    nn.ReLU())\n",
    "        self.dense2 = nn.Linear(32, 32)\n",
    "        self.relu = nn.ReLU()\n",
    "\n",
    "    def forward(self, x):\n",
    "        x = x.view(-1, 32)\n",
    "        x = self.dense1(x)\n",
    "        x = self.dense2(x)\n",
    "        x = self.relu(x)\n",
    "        return x\n",
    "\n",
    "class EnsembleModel(nn.Module):\n",
    "    def __init__(self, model1, model2, model_12):\n",
    "        super(EnsembleModel, self).__init__()\n",
    "        self.dense1 = model1.dense1\n",
    "        self.convert = model_12\n",
    "        self.dense2 = model2.dense2\n",
    "\n",
    "    def forward(self, x):\n",
    "        x = x.view(-1, 28 * 28)\n",
    "        h1 = self.dense1(x)\n",
    "        h2 = self.convert(h1)\n",
    "        y = self.dense2(h2)\n",
    "        return y"
   ]
  },
  {
   "cell_type": "code",
   "execution_count": 28,
   "metadata": {
    "autoscroll": false,
    "collapsed": false,
    "ein.hycell": false,
    "ein.tags": "worksheet-0",
    "slideshow": {
     "slide_type": "-"
    }
   },
   "outputs": [
    {
     "data": {
      "text/plain": [
       "ConversionModel(\n  (dense1): Sequential(\n    (0): Linear(in_features=32, out_features=32, bias=True)\n    (1): ReLU()\n  )\n  (dense2): Linear(in_features=32, out_features=32, bias=True)\n  (relu): ReLU()\n)"
      ]
     },
     "execution_count": 28,
     "metadata": {},
     "output_type": "execute_result"
    }
   ],
   "source": [
    "model_r_1to2 = ConversionModel().to(device)\n",
    "criterion_r = nn.MSELoss()\n",
    "optimizer_r = torch.optim.Adam(model_r_1to2.parameters())\n",
    "\n",
    "model_r_1to2"
   ]
  },
  {
   "cell_type": "code",
   "execution_count": 29,
   "metadata": {
    "autoscroll": false,
    "collapsed": false,
    "ein.hycell": false,
    "ein.tags": "worksheet-0",
    "slideshow": {
     "slide_type": "-"
    }
   },
   "outputs": [
    {
     "data": {
      "text/plain": [
       "EnsembleModel(\n  (dense1): Sequential(\n    (0): Linear(in_features=784, out_features=32, bias=True)\n    (1): ReLU()\n  )\n  (convert): ConversionModel(\n    (dense1): Sequential(\n      (0): Linear(in_features=32, out_features=32, bias=True)\n      (1): ReLU()\n    )\n    (dense2): Linear(in_features=32, out_features=32, bias=True)\n    (relu): ReLU()\n  )\n  (dense2): Linear(in_features=32, out_features=10, bias=True)\n)"
      ]
     },
     "execution_count": 29,
     "metadata": {},
     "output_type": "execute_result"
    }
   ],
   "source": [
    "model_1e2 = EnsembleModel(model1, model2, model_r_1to2)\n",
    "model_1e2"
   ]
  },
  {
   "cell_type": "code",
   "execution_count": 25,
   "metadata": {
    "autoscroll": false,
    "collapsed": false,
    "ein.hycell": false,
    "ein.tags": "worksheet-0",
    "slideshow": {
     "slide_type": "-"
    }
   },
   "outputs": [],
   "source": [
    "# Utility for testing the accuracy of ensembling\n",
    "\n",
    "def test_acc(model):\n",
    "    running_correct = 0\n",
    "    for X_test, y_test in test_loader:\n",
    "        X_test = X_test.to(device)\n",
    "        y_test = y_test.to(device)\n",
    "        outputs = model(X_test)\n",
    "        y_pred = torch.max(outputs, 1).indices\n",
    "        running_correct += torch.sum(y_pred == y_test).item()\n",
    "\n",
    "    return running_correct / len(data_test)"
   ]
  },
  {
   "cell_type": "code",
   "execution_count": 26,
   "metadata": {
    "autoscroll": false,
    "collapsed": false,
    "ein.hycell": false,
    "ein.tags": "worksheet-0",
    "slideshow": {
     "slide_type": "-"
    }
   },
   "outputs": [
    {
     "name": "stdout",
     "output_type": "stream",
     "text": [
      "Initial Test Loss: 42.3663, Ensembled Test Acc 10.9700%\n",
      "Epoch 0/20\n"
     ]
    },
    {
     "name": "stdout",
     "output_type": "stream",
     "text": [
      "Train Loss: 9.0727, Test Loss: 4.6716, Ensembled Test Acc 92.8200%\n",
      "Epoch 1/20\n"
     ]
    },
    {
     "name": "stdout",
     "output_type": "stream",
     "text": [
      "Train Loss: 4.4691, Test Loss: 4.3823, Ensembled Test Acc 93.3900%\n",
      "Epoch 2/20\n"
     ]
    },
    {
     "name": "stdout",
     "output_type": "stream",
     "text": [
      "Train Loss: 4.3109, Test Loss: 4.3341, Ensembled Test Acc 93.0500%\n",
      "Epoch 3/20\n"
     ]
    },
    {
     "name": "stdout",
     "output_type": "stream",
     "text": [
      "Train Loss: 4.2283, Test Loss: 4.2037, Ensembled Test Acc 93.2600%\n",
      "Epoch 4/20\n"
     ]
    },
    {
     "name": "stdout",
     "output_type": "stream",
     "text": [
      "Train Loss: 4.1676, Test Loss: 4.1418, Ensembled Test Acc 93.4700%\n",
      "Epoch 5/20\n"
     ]
    },
    {
     "name": "stdout",
     "output_type": "stream",
     "text": [
      "Train Loss: 4.1162, Test Loss: 4.1090, Ensembled Test Acc 93.4500%\n",
      "Epoch 6/20\n"
     ]
    },
    {
     "name": "stdout",
     "output_type": "stream",
     "text": [
      "Train Loss: 4.0652, Test Loss: 4.0909, Ensembled Test Acc 93.6500%\n",
      "Epoch 7/20\n"
     ]
    },
    {
     "name": "stdout",
     "output_type": "stream",
     "text": [
      "Train Loss: 4.0185, Test Loss: 4.0196, Ensembled Test Acc 93.4200%\n",
      "Epoch 8/20\n"
     ]
    },
    {
     "name": "stdout",
     "output_type": "stream",
     "text": [
      "Train Loss: 3.9777, Test Loss: 3.9692, Ensembled Test Acc 93.7200%\n",
      "Epoch 9/20\n"
     ]
    },
    {
     "name": "stdout",
     "output_type": "stream",
     "text": [
      "Train Loss: 3.9435, Test Loss: 3.9444, Ensembled Test Acc 93.6000%\n",
      "Epoch 10/20\n"
     ]
    },
    {
     "name": "stdout",
     "output_type": "stream",
     "text": [
      "Train Loss: 3.9126, Test Loss: 3.9161, Ensembled Test Acc 93.6200%\n",
      "Epoch 11/20\n"
     ]
    },
    {
     "name": "stdout",
     "output_type": "stream",
     "text": [
      "Train Loss: 3.8917, Test Loss: 3.8942, Ensembled Test Acc 93.6900%\n",
      "Epoch 12/20\n"
     ]
    },
    {
     "name": "stdout",
     "output_type": "stream",
     "text": [
      "Train Loss: 3.8702, Test Loss: 3.8830, Ensembled Test Acc 93.5300%\n",
      "Epoch 13/20\n"
     ]
    },
    {
     "name": "stdout",
     "output_type": "stream",
     "text": [
      "Train Loss: 3.8507, Test Loss: 3.8843, Ensembled Test Acc 93.6900%\n",
      "Epoch 14/20\n"
     ]
    },
    {
     "name": "stdout",
     "output_type": "stream",
     "text": [
      "Train Loss: 3.8328, Test Loss: 3.8363, Ensembled Test Acc 93.4600%\n",
      "Epoch 15/20\n"
     ]
    },
    {
     "name": "stdout",
     "output_type": "stream",
     "text": [
      "Train Loss: 3.8200, Test Loss: 3.8421, Ensembled Test Acc 93.2900%\n",
      "Epoch 16/20\n"
     ]
    },
    {
     "name": "stdout",
     "output_type": "stream",
     "text": [
      "Train Loss: 3.8029, Test Loss: 3.8153, Ensembled Test Acc 93.4500%\n",
      "Epoch 17/20\n"
     ]
    },
    {
     "name": "stdout",
     "output_type": "stream",
     "text": [
      "Train Loss: 3.7879, Test Loss: 3.8105, Ensembled Test Acc 93.7300%\n",
      "Epoch 18/20\n"
     ]
    },
    {
     "name": "stdout",
     "output_type": "stream",
     "text": [
      "Train Loss: 3.7750, Test Loss: 3.7952, Ensembled Test Acc 93.3700%\n",
      "Epoch 19/20\n"
     ]
    },
    {
     "name": "stdout",
     "output_type": "stream",
     "text": [
      "Train Loss: 3.7624, Test Loss: 3.7777, Ensembled Test Acc 93.3900%\n"
     ]
    }
   ],
   "source": [
    "# Train method 2: Direct Regression\n",
    "\n",
    "model_r_1to2.eval()\n",
    "testing_running_loss = 0.0\n",
    "for H_test_1, H_test_2 in hiddenlayer_conversion_data(test_loader):\n",
    "    outputs = model_r_1to2(H_test_1)\n",
    "    testing_running_loss += criterion_r(outputs, H_test_2).item() * len(H_test_1)\n",
    "\n",
    "print('Initial Test Loss: {:.4f}, Ensembled Test Acc {:.4f}%'.format(\n",
    "    testing_running_loss / len(data_test),\n",
    "    100 * test_acc(model_1e2)\n",
    "))\n",
    "\n",
    "n_epochs = 20\n",
    "\n",
    "for epoch in range(n_epochs):\n",
    "    print('Epoch {}/{}'.format(epoch, n_epochs))\n",
    "\n",
    "    model_r_1to2.train()\n",
    "    running_loss = 0.0\n",
    "    for H_train_1, H_train_2 in hiddenlayer_conversion_data(train_loader):\n",
    "        optimizer_r.zero_grad()\n",
    "        outputs = model_r_1to2(H_train_1)\n",
    "        loss = criterion_r(outputs, H_train_2)\n",
    "        loss.backward()\n",
    "        optimizer_r.step()\n",
    "\n",
    "        running_loss += loss.item() * len(H_train_1)\n",
    "\n",
    "    model_r_1to2.eval()\n",
    "    testing_running_loss = 0.0\n",
    "    for H_test_1, H_test_2 in hiddenlayer_conversion_data(test_loader):\n",
    "        outputs = model_r_1to2(H_test_1)\n",
    "        testing_running_loss += criterion_r(outputs, H_test_2).item() * len(H_test_1)\n",
    "\n",
    "    print('Train Loss: {:.4f}, Test Loss: {:.4f}, Ensembled Test Acc {:.4f}%'.format(\n",
    "        running_loss / len(data_train),\n",
    "        testing_running_loss / len(data_test),\n",
    "        100 * test_acc(model_1e2)\n",
    "    ))"
   ]
  },
  {
   "cell_type": "code",
   "execution_count": 27,
   "metadata": {
    "autoscroll": false,
    "collapsed": false,
    "ein.hycell": false,
    "ein.tags": "worksheet-0",
    "slideshow": {
     "slide_type": "-"
    }
   },
   "outputs": [],
   "source": [
    "torch.save(model_r_1to2.state_dict(), 'models/Converter1to2_Regression.pt')"
   ]
  },
  {
   "cell_type": "code",
   "execution_count": 30,
   "metadata": {
    "autoscroll": false,
    "collapsed": false,
    "ein.hycell": false,
    "ein.tags": "worksheet-0",
    "slideshow": {
     "slide_type": "-"
    }
   },
   "outputs": [],
   "source": [
    "# Train method 3: End-to-end\n",
    "\n",
    "# before training, make sure you re-init:\n",
    "#  1. your converter above, AND\n",
    "#  2. the ensembled model above, AND\n",
    "#  3. the optimizer below.\n",
    "# don't forget any of these!\n",
    "\n",
    "criterion = nn.CrossEntropyLoss()\n",
    "optimizer = torch.optim.Adam(model_r_1to2.parameters())  # train converter only\n",
    "n_epochs = 10"
   ]
  },
  {
   "cell_type": "code",
   "execution_count": 31,
   "metadata": {
    "autoscroll": false,
    "collapsed": false,
    "ein.hycell": false,
    "ein.tags": "worksheet-0",
    "slideshow": {
     "slide_type": "-"
    }
   },
   "outputs": [
    {
     "name": "stdout",
     "output_type": "stream",
     "text": [
      "Initial Test Acc 20.8600%\n",
      "Epoch 0/10\n"
     ]
    },
    {
     "name": "stdout",
     "output_type": "stream",
     "text": [
      "Loss: 0.0032, Train Acc 94.1283%, Test Acc 96.4400%\n",
      "Epoch 1/10\n"
     ]
    },
    {
     "name": "stdout",
     "output_type": "stream",
     "text": [
      "Loss: 0.0010, Train Acc 98.0017%, Test Acc 96.6300%\n",
      "Epoch 2/10\n"
     ]
    },
    {
     "name": "stdout",
     "output_type": "stream",
     "text": [
      "Loss: 0.0009, Train Acc 98.1950%, Test Acc 96.8200%\n",
      "Epoch 3/10\n"
     ]
    },
    {
     "name": "stdout",
     "output_type": "stream",
     "text": [
      "Loss: 0.0008, Train Acc 98.3800%, Test Acc 97.0000%\n",
      "Epoch 4/10\n"
     ]
    },
    {
     "name": "stdout",
     "output_type": "stream",
     "text": [
      "Loss: 0.0008, Train Acc 98.4083%, Test Acc 96.7900%\n",
      "Epoch 5/10\n"
     ]
    },
    {
     "name": "stdout",
     "output_type": "stream",
     "text": [
      "Loss: 0.0008, Train Acc 98.4450%, Test Acc 96.7700%\n",
      "Epoch 6/10\n"
     ]
    },
    {
     "name": "stdout",
     "output_type": "stream",
     "text": [
      "Loss: 0.0007, Train Acc 98.4800%, Test Acc 97.1000%\n",
      "Epoch 7/10\n"
     ]
    },
    {
     "name": "stdout",
     "output_type": "stream",
     "text": [
      "Loss: 0.0007, Train Acc 98.4583%, Test Acc 96.8100%\n",
      "Epoch 8/10\n"
     ]
    },
    {
     "name": "stdout",
     "output_type": "stream",
     "text": [
      "Loss: 0.0007, Train Acc 98.5300%, Test Acc 96.7900%\n",
      "Epoch 9/10\n"
     ]
    },
    {
     "name": "stdout",
     "output_type": "stream",
     "text": [
      "Loss: 0.0007, Train Acc 98.5333%, Test Acc 97.1900%\n"
     ]
    }
   ],
   "source": [
    "# this code is nearly the same as one above cell where we trained a simple model\n",
    "print('Initial Test Acc {:.4f}%'.format(100 * test_acc(model_1e2)))\n",
    "\n",
    "for epoch in range(n_epochs):\n",
    "    print('Epoch {}/{}'.format(epoch, n_epochs))\n",
    "\n",
    "    model_1e2.train()\n",
    "    running_loss = 0.0\n",
    "    running_correct = 0\n",
    "    for X_train, y_train in train_loader:\n",
    "        X_train = X_train.to(device)\n",
    "        y_train = y_train.to(device)\n",
    "        \n",
    "        optimizer.zero_grad()\n",
    "        outputs = model_1e2(X_train)\n",
    "        y_pred = torch.max(outputs, 1).indices\n",
    "        loss = criterion(outputs, y_train)\n",
    "        loss.backward()\n",
    "        optimizer.step()\n",
    "\n",
    "        running_loss += loss.item()\n",
    "        running_correct += torch.sum(y_pred == y_train).item()\n",
    "\n",
    "    model_1e2.eval()\n",
    "    testing_correct = 0\n",
    "    for X_test, y_test in test_loader:\n",
    "        X_test = X_test.to(device)\n",
    "        y_test = y_test.to(device)\n",
    "        \n",
    "        outputs = model_1e2(X_test)\n",
    "        y_pred = torch.max(outputs, 1).indices\n",
    "        testing_correct += torch.sum(y_pred == y_test).item()\n",
    "\n",
    "    print('Loss: {:.4f}, Train Acc {:.4f}%, Test Acc {:.4f}%'.format(\n",
    "        running_loss / len(data_train),\n",
    "        running_correct / len(data_train) * 100,\n",
    "        testing_correct / len(data_test) * 100\n",
    "    ))"
   ]
  },
  {
   "cell_type": "code",
   "execution_count": 32,
   "metadata": {
    "autoscroll": false,
    "collapsed": false,
    "ein.hycell": false,
    "ein.tags": "worksheet-0",
    "slideshow": {
     "slide_type": "-"
    }
   },
   "outputs": [],
   "source": [
    "torch.save(model_r_1to2.state_dict(), 'models/Converter1to2_EndtoEnd.pt')"
   ]
  }
 ],
 "metadata": {
  "kernelspec": {
   "display_name": "Python 3",
   "name": "python3"
  },
  "language_info": {
   "codemirror_mode": {
    "name": "ipython",
    "version": 3
   },
   "file_extension": ".py",
   "mimetype": "text/x-python",
   "name": "python",
   "nbconvert_exporter": "python",
   "pygments_lexer": "ipython3",
   "version": "3.5.2"
  },
  "name": "basic.ipynb"
 },
 "nbformat": 4,
 "nbformat_minor": 2
}
